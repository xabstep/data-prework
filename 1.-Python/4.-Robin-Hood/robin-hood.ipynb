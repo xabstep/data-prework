{
 "cells": [
  {
   "cell_type": "markdown",
   "metadata": {},
   "source": [
    "<img src=\"https://bit.ly/2VnXWr2\" width=\"100\" align=\"left\"/>"
   ]
  },
  {
   "cell_type": "markdown",
   "metadata": {},
   "source": [
    "# Robin Hood\n",
    "Robin Hood has entered a competition to win the archery contest in Sherwood. With his bow and arrows, he needs to shoot on a target and try to hit as close as possible to the center.\n",
    "\n",
    "![](images/arrows.jpg)\n",
    "\n",
    "## Context\n",
    "In this challenge, the landing position of arrows shot by archers in the competition will be represented using 2-dimensional coordinates. \n",
    "\n",
    "In the 2-dimensional space, a point can be defined by a pair of values that correspond to the horizontal coordinate (x) and the vertical coordinate (y). For example, in our case, an arrow that hits the center of the archery target will land in position (0, 0) on the coordinate axes. \n",
    "\n",
    "The space can be divided into 4 zones (quadrants): Q1, Q2, Q3, Q4. If a point is in Q1, both its x coordinate and y coordinate are positive. Any point with a null x or y coordinate is considered to not belong to any quadrant. \n",
    "\n",
    "If you want to know more about the cartesian coordinate system, you can check this [link](https://en.wikipedia.org/wiki/Cartesian_coordinate_system). \n",
    "\n",
    "## Tools\n",
    "You don't necessarily need to use all the tools. Maybe you opt to use some of them or completely different ones, they are given to help you shape the exercise. Programming exercises can be solved in many different ways.\n",
    "* Data structures: **lists, sets, tuples**\n",
    "* Conditional statements: **if-elif-else**\n",
    "* Loop: **while/for**\n",
    "* Minimum (optional sorting)\n",
    "\n",
    "## Tasks\n",
    "Robin Hood has hit the following points:"
   ]
  },
  {
   "cell_type": "code",
   "execution_count": 1,
   "metadata": {},
   "outputs": [],
   "source": [
    "points = [(4, 5), (-0, 2), (4, 7), (1, -3), (3, -2), (4, 5), (3, 2), (5, 7), (-5, 7), (2, 2), (-4, 5), (0, -2),\n",
    "          (-4, 7), (-1, 3), (-3, 2), (-4, -5), (-3, 2), (5, 7), (5, 7), (2, 2), (9, 9), (-8, -9)]"
   ]
  },
  {
   "cell_type": "markdown",
   "metadata": {},
   "source": [
    "#### 1. Robin Hood is famous for hitting an arrow with another arrow. Find the coordinates of the points where an arrow hits another arrow."
   ]
  },
  {
   "cell_type": "code",
   "execution_count": 23,
   "metadata": {},
   "outputs": [
    {
     "name": "stdout",
     "output_type": "stream",
     "text": [
      "Position (5, 7) 3 times\n",
      "Position (4, 5) 2 times\n",
      "Position (2, 2) 2 times\n",
      "Position (-3, 2) 2 times\n",
      "dict_values([3, 2, 2, 2])\n"
     ]
    }
   ],
   "source": [
    "set_points = set(points)\n",
    "dic_points = {}\n",
    "\n",
    "for i in set_points:\n",
    "    coincidences = 0\n",
    "    for j in points:\n",
    "        if i == j:\n",
    "            coincidences += 1\n",
    "        else:\n",
    "            coincidences= coincidences\n",
    "    if coincidences > 1:\n",
    "        dic_points[i] = coincidences\n",
    "        print(\"Position\", i, coincidences, \"times\")\n",
    "    else:\n",
    "        pass\n",
    "        \n",
    "print(dic_points)"
   ]
  },
  {
   "cell_type": "markdown",
   "metadata": {},
   "source": [
    "#### 2. Calculate how many arrows have fallen in each quadrant. \n",
    "**Note**: the arrows that fall in the axis (x=0 or y=0) don't belong to any quadrant."
   ]
  },
  {
   "cell_type": "code",
   "execution_count": 29,
   "metadata": {},
   "outputs": [
    {
     "name": "stdout",
     "output_type": "stream",
     "text": [
      "[(4, 5), (4, 7), (1, -3), (3, -2), (4, 5), (3, 2), (5, 7), (-5, 7), (2, 2), (-4, 5), (-4, 7), (-1, 3), (-3, 2), (-4, -5), (-3, 2), (5, 7), (5, 7), (2, 2), (9, 9), (-8, -9)]\n",
      "Arrows Q1: 10\n",
      "Arrows Q2: 6\n",
      "Arrows Q3: 2\n",
      "Arrows Q4: 2\n",
      "Arrows nulls: 2\n"
     ]
    }
   ],
   "source": [
    "points_nonulls = []\n",
    "\n",
    "for point in points:\n",
    "    if (point[0]==0)|(point[1]==0):\n",
    "        pass\n",
    "    else:\n",
    "        points_nonulls += [point]\n",
    "\n",
    "print(points_nonulls)\n",
    "\n",
    "arrows_q1 = 0\n",
    "arrows_q2 = 0\n",
    "arrows_q3 = 0\n",
    "arrows_q4 = 0\n",
    "arrows_null = 0\n",
    "\n",
    "for point in points:\n",
    "    x = point[0]\n",
    "    y = point[1]\n",
    "    if x > 0:\n",
    "        if y > 0:\n",
    "            arrows_q1 += 1\n",
    "        elif y < 0:\n",
    "            arrows_q4 += 1\n",
    "        else:\n",
    "            arrows_null += 1\n",
    "    elif x < 0:\n",
    "        if y > 0:\n",
    "            arrows_q2 += 1\n",
    "        elif y < 0:\n",
    "            arrows_q3 += 1\n",
    "        else:\n",
    "            arrows_null += 1\n",
    "    else:\n",
    "        arrows_null += 1\n",
    "\n",
    "print(\"Arrows Q1:\", arrows_q1)\n",
    "print(\"Arrows Q2:\", arrows_q2)\n",
    "print(\"Arrows Q3:\", arrows_q3)\n",
    "print(\"Arrows Q4:\", arrows_q4)\n",
    "print(\"Arrows nulls:\", arrows_null)"
   ]
  },
  {
   "cell_type": "markdown",
   "metadata": {},
   "source": [
    "#### 3. Find the point closest to the center. Calculate its distance to the center. \n",
    "Take into account that there might be more than one point at the minimum distance to the center.\n",
    "\n",
    "**Hint**: Use the Euclidean distance. You can find more information about it [here](https://en.wikipedia.org/wiki/Euclidean_distance).  \n",
    "**Hint**: Defining a function that calculates the distance to the center can help."
   ]
  },
  {
   "cell_type": "code",
   "execution_count": 40,
   "metadata": {},
   "outputs": [
    {
     "name": "stdout",
     "output_type": "stream",
     "text": [
      "Closest point and distance to the center: {(0, 2): 2.0}\n"
     ]
    }
   ],
   "source": [
    "target = [0, 0]\n",
    "closest_arrow = []\n",
    "closest_distance = 99999999999\n",
    "dic_closest = {}\n",
    "\n",
    "import math\n",
    "\n",
    "for point in points:\n",
    "    distance_point = math.sqrt((point[0]-target[0])**2+(point[1]-target[1])**2)\n",
    "    if distance_point < closest_distance:\n",
    "        closest_distance = distance_point\n",
    "        closest_arrow = point\n",
    "    else:\n",
    "        pass\n",
    "\n",
    "dic_closest[closest_arrow] = closest_distance\n",
    "print(\"Closest point and distance to the center:\", dic_closest)"
   ]
  },
  {
   "cell_type": "markdown",
   "metadata": {},
   "source": [
    "#### 4. If the archery target has a radius of 9, calculate the number of arrows that won't hit the target. \n",
    "**Hint**: Use the function created in step 3. "
   ]
  },
  {
   "cell_type": "code",
   "execution_count": 37,
   "metadata": {},
   "outputs": [
    {
     "name": "stdout",
     "output_type": "stream",
     "text": [
      "Arrows not in target: 2\n"
     ]
    }
   ],
   "source": [
    "target = [0, 0]\n",
    "arrows_target = 0\n",
    "\n",
    "import math\n",
    "\n",
    "for point in points:\n",
    "    distance_point = math.sqrt((point[0]-target[0])**2+(point[1]-target[1])**2)\n",
    "    if distance_point < 9:\n",
    "        arrows_target += 1\n",
    "    else:\n",
    "        pass\n",
    "\n",
    "no_target = len(points)-arrows_target\n",
    "print(\"Arrows not in target:\", no_target)"
   ]
  },
  {
   "cell_type": "code",
   "execution_count": null,
   "metadata": {},
   "outputs": [],
   "source": []
  }
 ],
 "metadata": {
  "kernelspec": {
   "display_name": "Python 3",
   "language": "python",
   "name": "python3"
  },
  "language_info": {
   "codemirror_mode": {
    "name": "ipython",
    "version": 3
   },
   "file_extension": ".py",
   "mimetype": "text/x-python",
   "name": "python",
   "nbconvert_exporter": "python",
   "pygments_lexer": "ipython3",
   "version": "3.8.5"
  }
 },
 "nbformat": 4,
 "nbformat_minor": 2
}
