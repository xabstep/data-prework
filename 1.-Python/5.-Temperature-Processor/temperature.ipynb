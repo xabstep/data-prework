{
 "cells": [
  {
   "cell_type": "markdown",
   "metadata": {},
   "source": [
    "<img src=\"https://bit.ly/2VnXWr2\" width=\"100\" align=\"left\">"
   ]
  },
  {
   "cell_type": "markdown",
   "metadata": {},
   "source": [
    "# Temperature Sensor\n",
    "\n",
    "There is a temperature sensor in the processor of your company's server. The company wants to analyze the data provided by the sensor to decide if they should change the cooling system for a better one. As changing the cooling system is expensive and you are an excellent data analyst, you can't make a decision without basis.\n",
    "\n",
    "## Tools\n",
    "You don't necessarily need to use all the tools. Maybe you opt to use some of them or completely different ones, they are given to help you shape the exercise. Programming exercises can be solved in many different ways.\n",
    "1. Data structures: **lists**\n",
    "2. Loops: **list comprehension**\n",
    "3. Functions: **min, max, print, len**\n",
    "4. Conditional statements: **if-elif-else**\n",
    "\n",
    "## Tasks\n",
    "The temperatures measured throughout the 24 hours of a day are:"
   ]
  },
  {
   "cell_type": "code",
   "execution_count": 2,
   "metadata": {},
   "outputs": [],
   "source": [
    "temperatures_C = [33, 66, 65, 0, 59, 60, 62, 64, 70, 76, 80, 81, 80, 83, 90, 79, 61, 53, 50, 49, 53, 48, 45, 39]"
   ]
  },
  {
   "cell_type": "markdown",
   "metadata": {},
   "source": [
    "The first element of the list is the temperature at 12am, the second element is the temperature at 1am, and so on. \n",
    "\n",
    "The company has decided that if one of the following events occurs, then the cooling system needs to be replaced for a new one to avoid damaging the processor.\n",
    "* More than 4 temperatures are greater than or equal to 70ºC.\n",
    "* Any temperature is above 80ºC.\n",
    "* The average temperature exceeds 65ºC.\n",
    "\n",
    "Follow the steps so that you can make the decision.\n",
    "\n",
    "#### 1. Find the minimum temperature of the day and store it in a variable."
   ]
  },
  {
   "cell_type": "code",
   "execution_count": 3,
   "metadata": {},
   "outputs": [
    {
     "name": "stdout",
     "output_type": "stream",
     "text": [
      "Min temperature: 0\n"
     ]
    }
   ],
   "source": [
    "min_temp =  min(temperatures_C)\n",
    "print(\"Min temperature:\", min_temp)"
   ]
  },
  {
   "cell_type": "markdown",
   "metadata": {},
   "source": [
    "#### 2. Find the maximum temperature of the day and store it in a variable."
   ]
  },
  {
   "cell_type": "code",
   "execution_count": 4,
   "metadata": {},
   "outputs": [
    {
     "name": "stdout",
     "output_type": "stream",
     "text": [
      "Max temperature: 90\n"
     ]
    }
   ],
   "source": [
    "max_temp =  max(temperatures_C)\n",
    "print(\"Max temperature:\", max_temp)"
   ]
  },
  {
   "cell_type": "markdown",
   "metadata": {},
   "source": [
    "#### 3. Create a list with the temperatures that are greater than or equal to 70ºC. Store it in a variable."
   ]
  },
  {
   "cell_type": "code",
   "execution_count": 5,
   "metadata": {},
   "outputs": [
    {
     "name": "stdout",
     "output_type": "stream",
     "text": [
      "[70, 76, 80, 81, 80, 83, 90, 79]\n"
     ]
    }
   ],
   "source": [
    "hour = 0\n",
    "temp_70 = []\n",
    "\n",
    "while hour < len(temperatures_C):\n",
    "    if temperatures_C[hour] >= 70:\n",
    "        temp_70 += [temperatures_C[hour]]\n",
    "    else:\n",
    "        pass\n",
    "    hour += 1\n",
    "\n",
    "print(temp_70)\n",
    "    "
   ]
  },
  {
   "cell_type": "markdown",
   "metadata": {},
   "source": [
    "#### 4. Find the average temperature of the day and store it in a variable."
   ]
  },
  {
   "cell_type": "code",
   "execution_count": 6,
   "metadata": {},
   "outputs": [
    {
     "name": "stdout",
     "output_type": "stream",
     "text": [
      "Average temperature: 60.25\n"
     ]
    }
   ],
   "source": [
    "average_temp = sum(temperatures_C)/len(temperatures_C)\n",
    "print(\"Average temperature:\", average_temp)"
   ]
  },
  {
   "cell_type": "markdown",
   "metadata": {},
   "source": [
    "#### 5. Imagine that there was a sensor failure at 3am and the data for that specific hour was not recorded. How would you estimate the missing value? Replace the current value of the list at 3am for an estimation. "
   ]
  },
  {
   "cell_type": "code",
   "execution_count": 7,
   "metadata": {},
   "outputs": [
    {
     "name": "stdout",
     "output_type": "stream",
     "text": [
      "Missing value (average of the rest) 62.869565217391305\n",
      "Old temp.: [33, 66, 65, 0, 59, 60, 62, 64, 70, 76, 80, 81, 80, 83, 90, 79, 61, 53, 50, 49, 53, 48, 45, 39]\n",
      "New temp.: [33, 66, 65, 62.869565217391305, 59, 60, 62, 64, 70, 76, 80, 81, 80, 83, 90, 79, 61, 53, 50, 49, 53, 48, 45, 39]\n"
     ]
    }
   ],
   "source": [
    "temperatures_C = [33, 66, 65, 0, 59, 60, 62, 64, 70, 76, 80, 81, 80, 83, 90, 79, 61, 53, 50, 49, 53, 48, 45, 39]\n",
    "\n",
    "temperatures_no3 = temperatures_C[:3]+temperatures_C[4:]\n",
    "average_no3 = sum(temperatures_no3)/len(temperatures_no3)\n",
    "print(\"Missing value (average of the rest)\", average_no3)\n",
    "\n",
    "print(\"Old temp.:\", temperatures_C)\n",
    "\n",
    "temperatures_C[3]=average_no3\n",
    "print(\"New temp.:\",temperatures_C)\n",
    "\n"
   ]
  },
  {
   "cell_type": "markdown",
   "metadata": {},
   "source": [
    "#### 6. Bonus: the maintenance staff is from the United States and does not understand the international metric system. Help them by converting the temperatures from Celsius to Fahrenheit.\n",
    "To know more about temperature conversion check this [link](https://en.wikipedia.org/wiki/Conversion_of_units_of_temperature).\n",
    "\n",
    "**Formula**: \n",
    "\n",
    "$F = 1.8 * C + 32$"
   ]
  },
  {
   "cell_type": "code",
   "execution_count": 8,
   "metadata": {},
   "outputs": [
    {
     "name": "stdout",
     "output_type": "stream",
     "text": [
      "[91.4, 150.8, 149.0, 145.16521739130434, 138.2, 140.0, 143.60000000000002, 147.2, 158.0, 168.8, 176.0, 177.8, 176.0, 181.4, 194.0, 174.20000000000002, 141.8, 127.4, 122.0, 120.2, 127.4, 118.4, 113.0, 102.2]\n"
     ]
    }
   ],
   "source": [
    "temperatures_F = []\n",
    "for temp in temperatures_C:\n",
    "    temperatures_F += [1.8*temp + 32]\n",
    "\n",
    "print(temperatures_F)"
   ]
  },
  {
   "cell_type": "markdown",
   "metadata": {},
   "source": [
    "#### 7. Make a decision!\n",
    "Now it's time to make a decision taking into account what you have seen until now. \n",
    "\n",
    "Remember that if one of the following events occurs, then the cooling system needs to be replaced for a new one to avoid damaging the processor.\n",
    "* More than 4 temperatures are greater than or equal to 70ºC.\n",
    "* Any temperature is above 80ºC.\n",
    "* The average temperature exceeds 65ºC.\n",
    "\n",
    "#### To make your decision, check if any of the three conditions above is met. You might need to use some of the variables you created in steps 1 to 6. Print a message to show if the cooling system needs to be changed or not."
   ]
  },
  {
   "cell_type": "code",
   "execution_count": 9,
   "metadata": {},
   "outputs": [
    {
     "name": "stdout",
     "output_type": "stream",
     "text": [
      "Replace system (temp > 80ºC)\n"
     ]
    }
   ],
   "source": [
    "counter_70 = 0\n",
    "average_temp = sum(temperatures_C)/len(temperatures_C)\n",
    "\n",
    "if average_temp > 65:\n",
    "    print(\"Replace system (average > 65ºC)\")\n",
    "\n",
    "else:\n",
    "    for hour in temperatures_C:\n",
    "        if hour >= 70:\n",
    "            if hour > 80:\n",
    "                print(\"Replace system (temp > 80ºC)\")\n",
    "                break\n",
    "            else:\n",
    "                pass\n",
    "            counter_70 += 1\n",
    "            if counter_70 > 4:\n",
    "                print(\"Replace syste (+4 temp > 70ºC)\")\n",
    "                break\n",
    "            else:\n",
    "                pass\n",
    "        else:\n",
    "            pass\n"
   ]
  },
  {
   "cell_type": "markdown",
   "metadata": {},
   "source": [
    "## Bonus\n",
    "\n",
    "The company has decided that the decision you made is not valid. They want you to analyze the data again but this time, the conditions that need to be met in order to change the cooling system are different.\n",
    "\n",
    "This time, if one of the following events occurs, then the cooling system needs to be replaced:\n",
    "* The temperature is greater than 70ºC during more than 4 consecutive hours.\n",
    "* Any temperature is above 80ºC.\n",
    "* The average temperature exceeds 65ºC.\n",
    "\n",
    "Follow the steps so that you can make the decision.\n",
    "\n",
    "#### 1. Create a list with the hours where the temperature is greater than 70ºC. Store it in a variable."
   ]
  },
  {
   "cell_type": "code",
   "execution_count": 11,
   "metadata": {},
   "outputs": [
    {
     "name": "stdout",
     "output_type": "stream",
     "text": [
      "[8, 9, 10, 11, 12, 13, 14, 15]\n"
     ]
    }
   ],
   "source": [
    "hour = 0\n",
    "hour_70 = []\n",
    "\n",
    "while hour < len(temperatures_C):\n",
    "    if temperatures_C[hour] >= 70:\n",
    "        hour_70 += [hour]\n",
    "    else:\n",
    "        pass\n",
    "    hour += 1\n",
    "\n",
    "print(hour_70)"
   ]
  },
  {
   "cell_type": "markdown",
   "metadata": {},
   "source": [
    "#### 2. Check if the list you created in step 1 has more than 4 consecutive hours. "
   ]
  },
  {
   "cell_type": "code",
   "execution_count": 14,
   "metadata": {},
   "outputs": [
    {
     "name": "stdout",
     "output_type": "stream",
     "text": [
      "More than 4 consecutive hours at  12\n"
     ]
    }
   ],
   "source": [
    "consecutive = 0\n",
    "i =1\n",
    "\n",
    "while i < len(hour_70):\n",
    "    diff = hour_70[i] - hour_70[i-1]\n",
    "    if diff == 1:\n",
    "        consecutive += 1\n",
    "        if consecutive > 4:\n",
    "            print(\"More than 4 consecutive hours at \", hour_70[i-1])\n",
    "            break\n",
    "        else:\n",
    "            i += 1\n",
    "    else:\n",
    "        consecutive = 0\n",
    "        i += 1\n",
    "    "
   ]
  },
  {
   "cell_type": "markdown",
   "metadata": {},
   "source": [
    "#### 3. Make the decision!\n",
    "To make your decision, check if any of the three conditions is met. Print a message to show if the cooling system needs to be changed or not."
   ]
  },
  {
   "cell_type": "code",
   "execution_count": 16,
   "metadata": {},
   "outputs": [
    {
     "name": "stdout",
     "output_type": "stream",
     "text": [
      "Replace system (temp > 80ºC)\n"
     ]
    }
   ],
   "source": [
    "average_temp = sum(temperatures_C)/len(temperatures_C)\n",
    "consecutive_70 = 0\n",
    "\n",
    "if average_temp > 65:\n",
    "    print(\"Replace system (average > 65ºC)\")\n",
    "\n",
    "else:\n",
    "    for hour in temperatures_C:\n",
    "        if hour >= 70:\n",
    "            if hour > 80:\n",
    "                print(\"Replace system (temp > 80ºC)\")\n",
    "                break\n",
    "            else:\n",
    "                pass\n",
    "            consecutive_70 += 1\n",
    "            if consecutive_70 > 4:\n",
    "                print(\"Replace syste (+4 temp consecutives > 70ºC)\")\n",
    "                break\n",
    "            else:\n",
    "                pass\n",
    "        else:\n",
    "            consecutive_70 = 0\n",
    "            pass\n"
   ]
  },
  {
   "cell_type": "markdown",
   "metadata": {},
   "source": [
    "#### 4. Find the average value of the temperature lists (ºC and ºF). What is the relation between both average values?"
   ]
  },
  {
   "cell_type": "code",
   "execution_count": 25,
   "metadata": {},
   "outputs": [
    {
     "name": "stdout",
     "output_type": "stream",
     "text": [
      "Average C: 62.869565217391305\n",
      "Average F: 145.16521739130434\n",
      "Relation between averages: 𝐹=1.8∗𝐶+32\n"
     ]
    }
   ],
   "source": [
    "average_C = sum(temperatures_C)/len(temperatures_C)\n",
    "average_F = sum(temperatures_F)/len(temperatures_F)\n",
    "\n",
    "print(\"Average C:\", average_C)\n",
    "print(\"Average F:\",average_F)\n",
    "\n",
    "calculation = 1.8*average_C + 32\n",
    "\n",
    "if calculation == average_F:\n",
    "    print(\"Relation between averages: 𝐹=1.8∗𝐶+32\")\n",
    "else:\n",
    "    print(\"No relation\")"
   ]
  },
  {
   "cell_type": "markdown",
   "metadata": {},
   "source": [
    "#### 5. Find the standard deviation of the temperature lists (ºC and ºF). What is the relation between both standard deviations?"
   ]
  },
  {
   "cell_type": "code",
   "execution_count": 30,
   "metadata": {},
   "outputs": [
    {
     "name": "stdout",
     "output_type": "stream",
     "text": [
      "Standard deviation C: 14.632453507603362\n",
      "Standard deviation F: 26.338416313686054\n",
      "Relation F/C: 1.8\n"
     ]
    }
   ],
   "source": [
    "import math\n",
    "sd_F = 0\n",
    "sd_C = 0\n",
    "\n",
    "for h in temperatures_C:\n",
    "    sd_C += (h-average_C)**2\n",
    "sd_C = math.sqrt(sd_C/len(temperatures_C))\n",
    "\n",
    "for h in temperatures_F:\n",
    "    sd_F += (h-average_F)**2\n",
    "sd_F = math.sqrt(sd_F/len(temperatures_F))\n",
    "\n",
    "print(\"Standard deviation C:\", sd_C)\n",
    "print(\"Standard deviation F:\", sd_F)\n",
    "print(\"Relation F/C:\",sd_F/sd_C) #relation=just the variable"
   ]
  },
  {
   "cell_type": "code",
   "execution_count": null,
   "metadata": {},
   "outputs": [],
   "source": []
  }
 ],
 "metadata": {
  "kernelspec": {
   "display_name": "Python 3",
   "language": "python",
   "name": "python3"
  },
  "language_info": {
   "codemirror_mode": {
    "name": "ipython",
    "version": 3
   },
   "file_extension": ".py",
   "mimetype": "text/x-python",
   "name": "python",
   "nbconvert_exporter": "python",
   "pygments_lexer": "ipython3",
   "version": "3.8.5"
  }
 },
 "nbformat": 4,
 "nbformat_minor": 2
}
