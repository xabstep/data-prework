{
 "cells": [
  {
   "cell_type": "markdown",
   "metadata": {},
   "source": [
    "<img src=\"https://bit.ly/2VnXWr2\" width=\"100\" align=\"left\">"
   ]
  },
  {
   "cell_type": "markdown",
   "metadata": {},
   "source": [
    "# Rock, Paper & Scissors\n",
    "\n",
    "Let's play the famous game against our computer. You can check the rules [here](https://en.wikipedia.org/wiki/Rock%E2%80%93paper%E2%80%93scissors). \n",
    "\n",
    "## Task\n",
    "Create a program that imitates the playability of the well known game of rock, paper, scissors. Follow the guidelines provided.\n",
    "\n",
    "## Tools\n",
    "1. Loop: **for/while**\n",
    "2. Functions: **input(), print()...**\n",
    "3. Conditional statements: **if, elif, else**\n",
    "4. Definition of functions. Modular programming\n",
    "5. Import modules\n",
    "\n",
    "**To solve this challenge, the use of functions is recommended.**\n",
    "\n",
    "#### 1. Import the choice function of the random module."
   ]
  },
  {
   "cell_type": "code",
   "execution_count": 1,
   "metadata": {},
   "outputs": [],
   "source": [
    "import random"
   ]
  },
  {
   "cell_type": "markdown",
   "metadata": {},
   "source": [
    "#### 2. Create a list that includes the 3 possible gesture options of the game: 'rock', 'paper' or 'scissors'. Store the list in a variable called `gestures`."
   ]
  },
  {
   "cell_type": "code",
   "execution_count": 2,
   "metadata": {},
   "outputs": [],
   "source": [
    "gestures = [\"rock\", \"paper\", \"scissors\"]"
   ]
  },
  {
   "cell_type": "markdown",
   "metadata": {},
   "source": [
    "#### 3. Create a variable called `n_rounds` to store the maximum number of rounds to play in a game. \n",
    "Remember that the number of rounds must be odd: 1, 3, 5, ..."
   ]
  },
  {
   "cell_type": "code",
   "execution_count": 3,
   "metadata": {},
   "outputs": [
    {
     "name": "stdout",
     "output_type": "stream",
     "text": [
      "5\n"
     ]
    }
   ],
   "source": [
    "def rounds():\n",
    "    print(\"Rounds:\")\n",
    "    n_rounds = input()\n",
    "    if float(n_rounds)%2 == 0:\n",
    "        rounds()\n",
    "    else: \n",
    "        return n_rounds\n",
    "\n",
    "n_rounds=5\n",
    "print(n_rounds)"
   ]
  },
  {
   "cell_type": "markdown",
   "metadata": {},
   "source": [
    "#### 4. Create a variable called `rounds_to_win` to store the number of rounds that a player must win to win the game.\n",
    "**Hint**: the value stored in `rounds_to_win` depends on the value of `n_rounds`. "
   ]
  },
  {
   "cell_type": "code",
   "execution_count": 4,
   "metadata": {},
   "outputs": [
    {
     "name": "stdout",
     "output_type": "stream",
     "text": [
      "3.0\n"
     ]
    }
   ],
   "source": [
    "rounds_to_win = (n_rounds+1)/2\n",
    "print(rounds_to_win)"
   ]
  },
  {
   "cell_type": "markdown",
   "metadata": {},
   "source": [
    "#### 5. Create two variables to store the number of rounds that the computer and the player have won. Call these variables `cpu_score` and `player_score`."
   ]
  },
  {
   "cell_type": "code",
   "execution_count": 5,
   "metadata": {},
   "outputs": [],
   "source": [
    "cpu_score = 0\n",
    "player_score = 0"
   ]
  },
  {
   "cell_type": "markdown",
   "metadata": {},
   "source": [
    "#### 6. Define a function that randomly returns one of the 3 gesture options.\n",
    "You will use this function to simulate the gesture choice of the computer. "
   ]
  },
  {
   "cell_type": "code",
   "execution_count": 6,
   "metadata": {},
   "outputs": [
    {
     "name": "stdout",
     "output_type": "stream",
     "text": [
      "paper\n"
     ]
    }
   ],
   "source": [
    "def cpu_gesture():\n",
    "    return gestures[int(random.randint(0,2))]\n",
    "\n",
    "print(cpu_gesture())"
   ]
  },
  {
   "cell_type": "markdown",
   "metadata": {},
   "source": [
    "#### 7. Define a function that asks the player which is the gesture he or she wants to show: 'rock', 'paper' or 'scissors'.\n",
    "The player should only be allowed to choose one of the 3 gesture options. If the player's choice is not rock, paper or scissors, keep asking until it is."
   ]
  },
  {
   "cell_type": "code",
   "execution_count": 11,
   "metadata": {},
   "outputs": [
    {
     "name": "stdout",
     "output_type": "stream",
     "text": [
      "Gesture to show:\n",
      "r\n",
      "Wrong input, try again\n",
      "Gesture to show:\n",
      "rock\n",
      "rock\n"
     ]
    }
   ],
   "source": [
    "def player_decision():\n",
    "    print(\"Gesture to show:\")\n",
    "    player_gesture = input()\n",
    "    if (player_gesture == \"scissors\")|(player_gesture == \"paper\")|(player_gesture == \"rock\"):\n",
    "        return player_gesture\n",
    "    else:\n",
    "        print(\"Wrong input, try again\")\n",
    "        return player_decision()\n",
    "print(player_decision())"
   ]
  },
  {
   "cell_type": "markdown",
   "metadata": {},
   "source": [
    "#### 8. Define a function that checks who won a round. \n",
    "The function should return 0 if there is a tie, 1 if the computer wins and 2 if the player wins."
   ]
  },
  {
   "cell_type": "code",
   "execution_count": 12,
   "metadata": {},
   "outputs": [
    {
     "name": "stdout",
     "output_type": "stream",
     "text": [
      "Gesture to show:\n",
      "ro\n",
      "Wrong input, try again\n",
      "Gesture to show:\n",
      "rock\n",
      "1\n"
     ]
    }
   ],
   "source": [
    "def game(player, cpu):\n",
    "    if cpu == player:\n",
    "        return 0\n",
    "    else:\n",
    "        if cpu==\"rock\":\n",
    "            if player==\"scissors\":\n",
    "                return 1 #cpu wins\n",
    "            else:\n",
    "                return 2 #player wins\n",
    "        elif cpu == \"paper\":\n",
    "            if player==\"rock\":\n",
    "                return 1 #cpu wins\n",
    "            else:\n",
    "                return 2 #player wins\n",
    "        else:\n",
    "            if player==\"paper\":\n",
    "                return 1 #cpu wins\n",
    "            else:\n",
    "                return 2 #player wins  \n",
    "            \n",
    "            \n",
    "print(game(player_decision(),cpu_gesture()))"
   ]
  },
  {
   "cell_type": "markdown",
   "metadata": {},
   "source": [
    "#### 9. Define a function that prints the choice of the computer, the choice of the player and a message that announces who won the current round. \n",
    "You should also use this function to update the variables that count the number of rounds that the computer and the player have won. The score of the winner increases by one point. If there is a tie, the score does not increase."
   ]
  },
  {
   "cell_type": "code",
   "execution_count": 13,
   "metadata": {},
   "outputs": [
    {
     "name": "stdout",
     "output_type": "stream",
     "text": [
      "Gesture to show:\n",
      "rock\n",
      "Player choice: rock\n",
      "Cpu choice: rock\n",
      "Tie\n",
      "0\n"
     ]
    }
   ],
   "source": [
    "def play():\n",
    "    cpu = cpu_gesture()\n",
    "    player=player_decision()\n",
    "    result = game(player, cpu)\n",
    "    print(\"Player choice:\", player)\n",
    "    print(\"Cpu choice:\", cpu)\n",
    "    if result == 0:\n",
    "        print(\"Tie\")\n",
    "    elif result == 1:\n",
    "        print(\"Cpu wins\")\n",
    "    else:\n",
    "        print(\"Player wins\")\n",
    "    return result\n",
    "    \n",
    "print(play())"
   ]
  },
  {
   "cell_type": "markdown",
   "metadata": {},
   "source": [
    "#### 10. Now it's time to code the execution of the game using the functions and variables you defined above. \n",
    "\n",
    "First, create a loop structure that repeats while no player reaches the minimum score necessary to win and the number of rounds is less than the maximum number of rounds to play in a game.  \n",
    "\n",
    "Inside the loop, use the functions and variables above to create the execution of a round: ask for the player's choice, generate the random choice of the computer, show the round results, update the scores, etc. "
   ]
  },
  {
   "cell_type": "code",
   "execution_count": null,
   "metadata": {},
   "outputs": [
    {
     "name": "stdout",
     "output_type": "stream",
     "text": [
      "Gesture to show:\n",
      "rock\n",
      "Player choice: rock\n",
      "Cpu choice: scissors\n",
      "Player wins\n",
      "Round 1  CPU: 0  Player: 1  Ties: 0\n",
      "Gesture to show:\n",
      "scissors\n",
      "Player choice: scissors\n",
      "Cpu choice: scissors\n",
      "Tie\n",
      "TIE\n",
      "Round 2  CPU: 0  Player: 1  Ties: 1\n",
      "Gesture to show:\n"
     ]
    }
   ],
   "source": [
    "ties = 0\n",
    "\n",
    "for i in range(n_rounds):\n",
    "    result = int(play())\n",
    "    if result == 0:\n",
    "        ties += 1\n",
    "    elif result == 1:\n",
    "        cpu_score += 1\n",
    "        if cpu_score == rounds_to_win:\n",
    "            print(\"CPU WINS\")\n",
    "            break\n",
    "        else:\n",
    "            pass\n",
    "    else:\n",
    "        player_score += 1\n",
    "        if player_score == rounds_to_win:\n",
    "            print(\"PLAYER WINS\")\n",
    "            break\n",
    "        else:\n",
    "            pass\n",
    "    print(\"Round\", i+1, \" CPU:\", cpu_score, \" Player:\", player_score, \" Ties:\", ties)\n",
    "        \n",
    "    "
   ]
  },
  {
   "cell_type": "markdown",
   "metadata": {},
   "source": [
    "#### 11. Print the winner of the game based on who won more rounds.\n",
    "Remember that the game might be tied. "
   ]
  },
  {
   "cell_type": "code",
   "execution_count": null,
   "metadata": {},
   "outputs": [],
   "source": [
    "if cpu_score > player_score:\n",
    "    print(\"CPU WINS\")\n",
    "elif cpu_score < player_score:\n",
    "    print(\"PLAYER WINS)\n",
    "else:\n",
    "    print(\"TIE\")"
   ]
  },
  {
   "cell_type": "markdown",
   "metadata": {},
   "source": [
    "# Bonus: Rock, Paper, Scissors, Lizard & Spock\n",
    "![](images/rpsls.jpg)\n",
    "\n",
    "In this challenge, you need to improve the previous game by adding two new options. To know more about the rules of the improved version of rock, paper, scissors, check this [link](http://www.samkass.com/theories/RPSSL.html). \n",
    "\n",
    "In addition, you will also need to improve how the game interacts with the player: the number of rounds to play, which must be an odd number, will be requested to the user until a valid number is entered. Define a new function to make that request.\n",
    "\n",
    "**Hint**: Try to reuse the code that you already coded in the previous challenge. If your code is efficient, this bonus will only consist of simple modifications to the original game."
   ]
  },
  {
   "cell_type": "code",
   "execution_count": null,
   "metadata": {},
   "outputs": [],
   "source": []
  }
 ],
 "metadata": {
  "kernelspec": {
   "display_name": "Python 3",
   "language": "python",
   "name": "python3"
  },
  "language_info": {
   "codemirror_mode": {
    "name": "ipython",
    "version": 3
   },
   "file_extension": ".py",
   "mimetype": "text/x-python",
   "name": "python",
   "nbconvert_exporter": "python",
   "pygments_lexer": "ipython3",
   "version": "3.8.5"
  }
 },
 "nbformat": 4,
 "nbformat_minor": 2
}
